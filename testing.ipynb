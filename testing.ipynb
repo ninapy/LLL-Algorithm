{
 "cells": [
  {
   "cell_type": "code",
   "execution_count": 25,
   "metadata": {},
   "outputs": [
    {
     "data": {
      "text/plain": [
       "<module 'LLL' from 'c:\\\\Users\\\\ninap\\\\Downloads\\\\LLL implementation\\\\LLL.py'>"
      ]
     },
     "execution_count": 25,
     "metadata": {},
     "output_type": "execute_result"
    }
   ],
   "source": [
    "import importlib, LLL\n",
    "from LLL import gramschmidt\n",
    "from LLL import check_orthogonality\n",
    "from LLL import LLL_reduction\n",
    "importlib.reload(LLL)"
   ]
  },
  {
   "cell_type": "markdown",
   "metadata": {},
   "source": [
    "Test for GRAM-SCHMIDT ALGORITHM"
   ]
  },
  {
   "cell_type": "code",
   "execution_count": 26,
   "metadata": {},
   "outputs": [
    {
     "name": "stdout",
     "output_type": "stream",
     "text": [
      "[[0.0, 2.0, 0.0], [4.0, 0.0, -3.0], [3.0, 0.0, 4.0]]\n",
      "True\n",
      "True\n"
     ]
    }
   ],
   "source": [
    "#Test Gram-Schmidt\n",
    "v = [[0.0, 2.0, 0.0], [4.0, -1.0, -3.0], [3.0, 2.0, 4.0]]\n",
    "B = gramschmidt(v)\n",
    "print(B)\n",
    "\n",
    "for i in range (0, len(B) - 1):\n",
    "    C = check_orthogonality(B[i],B[i+1])\n",
    "    print(C)\n",
    "#Expected [[0.0, 2.0, 0.0], [4.0, 0.0, -3.0], [3.0, 0.0, 4.0]]"
   ]
  },
  {
   "cell_type": "code",
   "execution_count": 27,
   "metadata": {},
   "outputs": [
    {
     "name": "stdout",
     "output_type": "stream",
     "text": [
      "[[1.0, 2.0, -2.0], [0.0, -2.0, -2.0], [4.0, -1.0, 1.0]]\n",
      "True\n",
      "True\n"
     ]
    }
   ],
   "source": [
    "#Test Gram-Schmidt\n",
    "v = [[1.0, 2.0, -2.0], [1.0, 0.0, -4.0], [5.0, 2.0, 0.0]]\n",
    "B = gramschmidt(v)\n",
    "print(B)\n",
    "\n",
    "for i in range (0, len(B) - 1):\n",
    "    C = check_orthogonality(B[i],B[i+1])\n",
    "    print(C)\n",
    "#Expected [[1.0, 2.0, -2.0], [0.0, -2.0, -2.0], [4.0, -1.0, 1.0]]"
   ]
  },
  {
   "cell_type": "markdown",
   "metadata": {},
   "source": [
    "Test for LLL ALGORITHM"
   ]
  },
  {
   "cell_type": "code",
   "execution_count": 28,
   "metadata": {},
   "outputs": [
    {
     "data": {
      "text/plain": [
       "[array([-1,  0]), array([ 0, -2])]"
      ]
     },
     "execution_count": 28,
     "metadata": {},
     "output_type": "execute_result"
    }
   ],
   "source": [
    "#Test LLL\n",
    "v1 = [3,8]\n",
    "v2 = [5,14]\n",
    "V = [v1,v2]\n",
    "\n",
    "LLL_reduction(V)\n",
    "#Expected: [[-1,0],[0,-2]]"
   ]
  },
  {
   "cell_type": "code",
   "execution_count": 29,
   "metadata": {},
   "outputs": [
    {
     "data": {
      "text/plain": [
       "[array([0, 1, 0]), array([1, 0, 1]), array([-1,  0,  2])]"
      ]
     },
     "execution_count": 29,
     "metadata": {},
     "output_type": "execute_result"
    }
   ],
   "source": [
    "#Test LLL\n",
    "v1 = [1,1,1]\n",
    "v2 = [-1,0,2]\n",
    "v3 = [3,5,6]\n",
    "V = [v1,v2,v3]\n",
    "\n",
    "LLL_reduction(V)\n",
    "#Expected: [[0, 1, 0], [1, 0, 1], [-1, 0, 2]]"
   ]
  },
  {
   "cell_type": "code",
   "execution_count": 30,
   "metadata": {},
   "outputs": [
    {
     "data": {
      "text/plain": [
       "[array([ 1, -1,  0]), array([-1,  0,  1]), array([1, 1, 1])]"
      ]
     },
     "execution_count": 30,
     "metadata": {},
     "output_type": "execute_result"
    }
   ],
   "source": [
    "#Test LLL\n",
    "v1 = [1, -1, 3]\n",
    "v2 = [1, 0, 5]\n",
    "v3 = [1, 2, 6]\n",
    "V = [v1, v2, v3]\n",
    "LLL_reduction(V)\n",
    "#Expected ([[1, -1, 0], [-1, 0, 1], [1, 1, 1]])"
   ]
  },
  {
   "cell_type": "code",
   "execution_count": 31,
   "metadata": {},
   "outputs": [
    {
     "data": {
      "text/plain": [
       "[array([ 1, 32]), array([40,  1])]"
      ]
     },
     "execution_count": 31,
     "metadata": {},
     "output_type": "execute_result"
    }
   ],
   "source": [
    "#Test LLL\n",
    "v1 = [201, 37]\n",
    "v2 = [1648, 297]\n",
    "V = [v1, v2]\n",
    "LLL_reduction(V)\n",
    "#Expected ([1, 32], [40, 1])"
   ]
  },
  {
   "cell_type": "code",
   "execution_count": 32,
   "metadata": {},
   "outputs": [
    {
     "data": {
      "text/plain": [
       "[array([  7, -12,  -8,   4,  19,   9]),\n",
       " array([-20,   4,  -9,  16,  13,  16]),\n",
       " array([ 5,  2, 33,  0, 15, -9]),\n",
       " array([ -6,  -7, -20, -21,   8, -12]),\n",
       " array([-10, -24,  21, -15,  -6, -11]),\n",
       " array([  7,   4,  -9, -11,   1,  31])]"
      ]
     },
     "execution_count": 32,
     "metadata": {},
     "output_type": "execute_result"
    }
   ],
   "source": [
    "#Test LLL\n",
    "v1 = [19, 2, 32, 46, 3, 33]\n",
    "v2 = [15, 42, 11, 0, 3, 24]\n",
    "v3 = [43, 15, 0, 24, 4, 16]\n",
    "v4 = [20, 44, 44, 0, 18, 15]\n",
    "v5 = [0, 48, 35, 16, 31, 31]\n",
    "v6 = [48, 33, 32, 9, 1, 29]\n",
    "V = [v1, v2, v3, v4, v5, v6]\n",
    "\n",
    "LLL_reduction(V)\n",
    "#Expected:\n",
    "# [[7, -12, -8, 4, 19, 9],\n",
    "# [-20, 4, -9, 16, 13, 16],\n",
    "# [5, 2, 33, 0, 15, -9],\n",
    "# [-6, -7, -20, -21, 8, -12],\n",
    "# [-10, -24, 21, -15, -6, -11],\n",
    "# [7, 4, -9, -11, 1, 31]])"
   ]
  },
  {
   "cell_type": "code",
   "execution_count": 33,
   "metadata": {},
   "outputs": [
    {
     "data": {
      "text/plain": [
       "[array([ -6,  -3,  -2,   2, -26,  10]),\n",
       " array([11, 30,  2,  5, -6, 24]),\n",
       " array([-14, -10,  14, -48,  -3,  -6]),\n",
       " array([ -3,  24,  43,  23, -33, -38]),\n",
       " array([ 64, -44, -16, -46, -13,   4]),\n",
       " array([-28, -25,  41,   5,  30,  39])]"
      ]
     },
     "execution_count": 33,
     "metadata": {},
     "output_type": "execute_result"
    }
   ],
   "source": [
    "#Test LLL\n",
    "v1 = [20,51,35,59,73,73]\n",
    "v2 = [14,48,33,61,47,83]\n",
    "v3 = [95,41,48,84,30,45]\n",
    "v4 = [0,42,74,79,20,21]\n",
    "v5 = [6,41,49,11,70,67]\n",
    "v6 = [23,36,6,1,46,4]\n",
    "V = [v1, v2, v3, v4, v5, v6]\n",
    "\n",
    "LLL_reduction(V)\n",
    "#Expected:\n",
    "# [[-6, -3, -2, 2, -26, 10],\n",
    "# [11, 30, 2, 5, -6, 24],\n",
    "# [-14, -10, 14, -48, -3, -6],\n",
    "# [-3, 24, 43, 23, -33, -38],\n",
    "# [64, -44, -16, -46, -13, 4]\n",
    "# [-28, -25, 41, 5, 30, 39]"
   ]
  },
  {
   "cell_type": "code",
   "execution_count": 34,
   "metadata": {},
   "outputs": [
    {
     "data": {
      "text/plain": [
       "[array([-7,  2]), array([ -3, -11])]"
      ]
     },
     "execution_count": 34,
     "metadata": {},
     "output_type": "execute_result"
    }
   ],
   "source": [
    "#Test LLL\n",
    "v1 = [161, 120]\n",
    "v2 = [104, 77]\n",
    "V = [v1, v2]\n",
    "\n",
    "LLL_reduction(V)\n",
    "#Expected ([[-7, 2], [-3, -11]])"
   ]
  },
  {
   "cell_type": "code",
   "execution_count": 35,
   "metadata": {},
   "outputs": [
    {
     "data": {
      "text/plain": [
       "[array([15,  0, 10]), array([ 5, 16, -7]), array([-5,  2, 16])]"
      ]
     },
     "execution_count": 35,
     "metadata": {},
     "output_type": "execute_result"
    }
   ],
   "source": [
    "#Test LLL\n",
    "v1 = [20, 16, 3]\n",
    "v2 = [15, 0, 10]\n",
    "v3 = [0, 18, 9]\n",
    "V = [v1, v2, v3]\n",
    "\n",
    "LLL_reduction(V)\n",
    "#Expected ([[15, 0, 10], [5, 16, -7], [-5, 2, 16]])"
   ]
  },
  {
   "cell_type": "code",
   "execution_count": 36,
   "metadata": {},
   "outputs": [
    {
     "data": {
      "text/plain": [
       "[array([1, 9, 9]), array([13,  5, -7]), array([ 6, -9, 15])]"
      ]
     },
     "execution_count": 36,
     "metadata": {},
     "output_type": "execute_result"
    }
   ],
   "source": [
    "#Test LLL\n",
    "v1 = [15, 23, 11]\n",
    "v2 = [46, 15, 3]\n",
    "v3 = [32, 1, 1]\n",
    "V = [v1, v2, v3]\n",
    "\n",
    "LLL_reduction(V)\n",
    "#Expected ([[1, 9, 9], [13, 5, -7], [6, -9, 15]])"
   ]
  }
 ],
 "metadata": {
  "kernelspec": {
   "display_name": "Python 3",
   "language": "python",
   "name": "python3"
  },
  "language_info": {
   "codemirror_mode": {
    "name": "ipython",
    "version": 3
   },
   "file_extension": ".py",
   "mimetype": "text/x-python",
   "name": "python",
   "nbconvert_exporter": "python",
   "pygments_lexer": "ipython3",
   "version": "3.11.5"
  }
 },
 "nbformat": 4,
 "nbformat_minor": 2
}
